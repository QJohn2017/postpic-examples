{
 "cells": [
  {
   "cell_type": "markdown",
   "metadata": {},
   "source": [
    "# Installation of postpic\n",
    "\n",
    "`postpic` can be easily installed using `pip`. Therefore on **any** maching with access to the internet, you can use the following command to install postpic from its current master:"
   ]
  },
  {
   "cell_type": "code",
   "execution_count": 1,
   "metadata": {},
   "outputs": [
    {
     "name": "stdout",
     "output_type": "stream",
     "text": [
      "Collecting git+https://github.com/skuschel/postpic.git\n",
      "  Cloning https://github.com/skuschel/postpic.git to /tmp/pip-2g4aw584-build\n",
      "Requirement already satisfied: matplotlib>=1.3 in /usr/lib/python3.6/site-packages (from postpic==0.3.1+318.ga7cb0c4)\n",
      "Requirement already satisfied: numpy>=1.8 in /usr/lib/python3.6/site-packages (from postpic==0.3.1+318.ga7cb0c4)\n",
      "Requirement already satisfied: scipy in /usr/lib/python3.6/site-packages (from postpic==0.3.1+318.ga7cb0c4)\n",
      "Requirement already satisfied: future in /usr/lib/python3.6/site-packages (from postpic==0.3.1+318.ga7cb0c4)\n",
      "Requirement already satisfied: urllib3 in /usr/lib/python3.6/site-packages (from postpic==0.3.1+318.ga7cb0c4)\n",
      "Requirement already satisfied: numexpr in /usr/lib/python3.6/site-packages (from postpic==0.3.1+318.ga7cb0c4)\n",
      "Requirement already satisfied: cython>=0.18 in /usr/lib/python3.6/site-packages (from postpic==0.3.1+318.ga7cb0c4)\n",
      "Requirement already satisfied: six>=1.10 in /usr/lib/python3.6/site-packages (from matplotlib>=1.3->postpic==0.3.1+318.ga7cb0c4)\n",
      "Requirement already satisfied: python-dateutil>=2.1 in /usr/lib/python3.6/site-packages (from matplotlib>=1.3->postpic==0.3.1+318.ga7cb0c4)\n",
      "Requirement already satisfied: pytz in /usr/lib/python3.6/site-packages (from matplotlib>=1.3->postpic==0.3.1+318.ga7cb0c4)\n",
      "Requirement already satisfied: cycler>=0.10 in /usr/lib/python3.6/site-packages (from matplotlib>=1.3->postpic==0.3.1+318.ga7cb0c4)\n",
      "Requirement already satisfied: pyparsing!=2.0.4,!=2.1.2,!=2.1.6,>=2.0.1 in /usr/lib/python3.6/site-packages (from matplotlib>=1.3->postpic==0.3.1+318.ga7cb0c4)\n",
      "Installing collected packages: postpic\n",
      "  Found existing installation: postpic 0.3.1+316.gf681508\n",
      "    Uninstalling postpic-0.3.1+316.gf681508:\n",
      "      Successfully uninstalled postpic-0.3.1+316.gf681508\n",
      "  Running setup.py install for postpic ... \u001b[?25ldone\n",
      "\u001b[?25hSuccessfully installed postpic-0.3.1+318.ga7cb0c4\n"
     ]
    }
   ],
   "source": [
    "!pip install --user git+https://github.com/skuschel/postpic.git"
   ]
  },
  {
   "cell_type": "markdown",
   "metadata": {},
   "source": [
    "Please note, that you should already have installed general python computation packages as numpy, cython, numexpr matplotlib or scipy.\n",
    "\n",
    "In order to check, if the installation was successfull try to import postpic and print the version string.\n",
    "\n",
    "The Version string constists of the last tagged version followed by `+{N}.g{hash}`, where `N` is the number of commits after the tag and `hash` is the hash of the commit."
   ]
  },
  {
   "cell_type": "code",
   "execution_count": 2,
   "metadata": {},
   "outputs": [
    {
     "name": "stdout",
     "output_type": "stream",
     "text": [
      "v0.3.1+318.ga7cb0c4\n"
     ]
    }
   ],
   "source": [
    "import postpic as pp\n",
    "print(pp.__version__)"
   ]
  },
  {
   "cell_type": "code",
   "execution_count": null,
   "metadata": {},
   "outputs": [],
   "source": []
  }
 ],
 "metadata": {
  "kernelspec": {
   "display_name": "Python 3",
   "language": "python",
   "name": "python3"
  },
  "language_info": {
   "codemirror_mode": {
    "name": "ipython",
    "version": 3
   },
   "file_extension": ".py",
   "mimetype": "text/x-python",
   "name": "python",
   "nbconvert_exporter": "python",
   "pygments_lexer": "ipython3",
   "version": "3.6.4"
  }
 },
 "nbformat": 4,
 "nbformat_minor": 2
}
